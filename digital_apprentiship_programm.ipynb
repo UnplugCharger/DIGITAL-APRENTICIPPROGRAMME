{
  "nbformat": 4,
  "nbformat_minor": 0,
  "metadata": {
    "colab": {
      "name": "digital apprentiship programm",
      "provenance": [],
      "authorship_tag": "ABX9TyO2iQyC6737Wkm5o7dIsUxk",
      "include_colab_link": true
    },
    "kernelspec": {
      "name": "python3",
      "display_name": "Python 3"
    }
  },
  "cells": [
    {
      "cell_type": "markdown",
      "metadata": {
        "id": "view-in-github",
        "colab_type": "text"
      },
      "source": [
        "<a href=\"https://colab.research.google.com/github/UnplugCharger/DIGITAL-APRENTICIPPROGRAMME/blob/main/digital_apprentiship_programm.ipynb\" target=\"_parent\"><img src=\"https://colab.research.google.com/assets/colab-badge.svg\" alt=\"Open In Colab\"/></a>"
      ]
    },
    {
      "cell_type": "code",
      "metadata": {
        "id": "ek4RLDeU5VTF"
      },
      "source": [
        "import pandas as pd\r\n",
        "import numpy as np\r\n"
      ],
      "execution_count": 1,
      "outputs": []
    },
    {
      "cell_type": "code",
      "metadata": {
        "colab": {
          "base_uri": "https://localhost:8080/",
          "height": 479
        },
        "id": "CUkFDjR558UB",
        "outputId": "a8da7be3-68f2-4b06-eeb7-3eca77df1a62"
      },
      "source": [
        "url= 'https://raw.githubusercontent.com/onaio/ona-tech/master/data/water_points.json'\r\n",
        "df=pd.read_json(url)\r\n",
        "df.head()"
      ],
      "execution_count": 2,
      "outputs": [
        {
          "output_type": "execute_result",
          "data": {
            "text/html": [
              "<div>\n",
              "<style scoped>\n",
              "    .dataframe tbody tr th:only-of-type {\n",
              "        vertical-align: middle;\n",
              "    }\n",
              "\n",
              "    .dataframe tbody tr th {\n",
              "        vertical-align: top;\n",
              "    }\n",
              "\n",
              "    .dataframe thead th {\n",
              "        text-align: right;\n",
              "    }\n",
              "</style>\n",
              "<table border=\"1\" class=\"dataframe\">\n",
              "  <thead>\n",
              "    <tr style=\"text-align: right;\">\n",
              "      <th></th>\n",
              "      <th>water_pay</th>\n",
              "      <th>respondent</th>\n",
              "      <th>research_asst_name</th>\n",
              "      <th>water_used_season</th>\n",
              "      <th>_bamboo_dataset_id</th>\n",
              "      <th>_deleted_at</th>\n",
              "      <th>water_point_condition</th>\n",
              "      <th>_xform_id_string</th>\n",
              "      <th>other_point_1km</th>\n",
              "      <th>_attachments</th>\n",
              "      <th>communities_villages</th>\n",
              "      <th>end</th>\n",
              "      <th>animal_number</th>\n",
              "      <th>water_point_id</th>\n",
              "      <th>start</th>\n",
              "      <th>water_connected</th>\n",
              "      <th>water_manager_name</th>\n",
              "      <th>_status</th>\n",
              "      <th>enum_id_1</th>\n",
              "      <th>water_lift_mechanism</th>\n",
              "      <th>districts_divisions</th>\n",
              "      <th>_uuid</th>\n",
              "      <th>grid</th>\n",
              "      <th>date</th>\n",
              "      <th>formhub/uuid</th>\n",
              "      <th>road_available</th>\n",
              "      <th>water_functioning</th>\n",
              "      <th>_submission_time</th>\n",
              "      <th>signal</th>\n",
              "      <th>water_source_type</th>\n",
              "      <th>_geolocation</th>\n",
              "      <th>water_point_image</th>\n",
              "      <th>water_point_geocode</th>\n",
              "      <th>deviceid</th>\n",
              "      <th>locations_wards</th>\n",
              "      <th>water_manager</th>\n",
              "      <th>water_developer</th>\n",
              "      <th>_id</th>\n",
              "      <th>animal_point</th>\n",
              "      <th>water_mechanism_plate</th>\n",
              "      <th>water_lift_mechanism_type</th>\n",
              "      <th>road_type</th>\n",
              "      <th>water_mechanism_plate_units</th>\n",
              "      <th>water_mechanism_plate_no</th>\n",
              "      <th>water_not_functioning</th>\n",
              "      <th>water_source_type_other</th>\n",
              "      <th>simserial</th>\n",
              "      <th>subscriberid</th>\n",
              "    </tr>\n",
              "  </thead>\n",
              "  <tbody>\n",
              "    <tr>\n",
              "      <th>0</th>\n",
              "      <td>no</td>\n",
              "      <td>community</td>\n",
              "      <td>Haruna Mohammed</td>\n",
              "      <td>year_round</td>\n",
              "      <td></td>\n",
              "      <td>NaT</td>\n",
              "      <td>functioning</td>\n",
              "      <td>_08_Water_points_CV</td>\n",
              "      <td>no</td>\n",
              "      <td>[north_ghana/attachments/1351696546452.jpg]</td>\n",
              "      <td>Gumaryili</td>\n",
              "      <td>2012-11-12T11:46:32.454Z</td>\n",
              "      <td>more_500</td>\n",
              "      <td>xxx</td>\n",
              "      <td>2012-10-31T15:11:04.618Z</td>\n",
              "      <td>no</td>\n",
              "      <td>community members</td>\n",
              "      <td>submitted_via_web</td>\n",
              "      <td>5</td>\n",
              "      <td>no</td>\n",
              "      <td>northern</td>\n",
              "      <td>f8bcee72d7a0400fb99ae11bbf804010</td>\n",
              "      <td>grid_further_500_m</td>\n",
              "      <td>2012-10-31</td>\n",
              "      <td>4d41d54d134c4bfa9078571addd819b9</td>\n",
              "      <td>no</td>\n",
              "      <td>yes</td>\n",
              "      <td>2012-11-13 07:13:57</td>\n",
              "      <td>low</td>\n",
              "      <td>dam_dugout</td>\n",
              "      <td>[10.1892764, -0.66410362]</td>\n",
              "      <td>1351696546452.jpg</td>\n",
              "      <td>10.1892764 -0.66410362 155.10000610351563 5.0</td>\n",
              "      <td>355047040123780</td>\n",
              "      <td>west_mamprusi</td>\n",
              "      <td>community</td>\n",
              "      <td>community</td>\n",
              "      <td>381705</td>\n",
              "      <td>yes</td>\n",
              "      <td>NaN</td>\n",
              "      <td>NaN</td>\n",
              "      <td>NaN</td>\n",
              "      <td>NaN</td>\n",
              "      <td>NaN</td>\n",
              "      <td>NaN</td>\n",
              "      <td>NaN</td>\n",
              "      <td>NaN</td>\n",
              "      <td>NaN</td>\n",
              "    </tr>\n",
              "    <tr>\n",
              "      <th>1</th>\n",
              "      <td>no</td>\n",
              "      <td>community</td>\n",
              "      <td>Haruna Mohmmed</td>\n",
              "      <td>year_round</td>\n",
              "      <td></td>\n",
              "      <td>NaT</td>\n",
              "      <td>functioning</td>\n",
              "      <td>_08_Water_points_CV</td>\n",
              "      <td>yes</td>\n",
              "      <td>[north_ghana/attachments/1351701849971.jpg]</td>\n",
              "      <td>Selinvoya</td>\n",
              "      <td>2012-11-12T11:49:36.619Z</td>\n",
              "      <td>50_to_500</td>\n",
              "      <td>xxx</td>\n",
              "      <td>2012-10-31T16:41:49.738Z</td>\n",
              "      <td>no</td>\n",
              "      <td>Amadu Salifu</td>\n",
              "      <td>submitted_via_web</td>\n",
              "      <td>5</td>\n",
              "      <td>yes</td>\n",
              "      <td>northern</td>\n",
              "      <td>c2f6b298955f47ab9f177bee1214141d</td>\n",
              "      <td>grid_further_500_m</td>\n",
              "      <td>2012-10-31</td>\n",
              "      <td>4d41d54d134c4bfa9078571addd819b9</td>\n",
              "      <td>yes</td>\n",
              "      <td>yes</td>\n",
              "      <td>2012-11-13 07:14:04</td>\n",
              "      <td>high</td>\n",
              "      <td>unprotected_well</td>\n",
              "      <td>[10.28173052, -0.56901122]</td>\n",
              "      <td>1351701849971.jpg</td>\n",
              "      <td>10.28173052 -0.56901122 201.89999389648438 5.0</td>\n",
              "      <td>355047040123780</td>\n",
              "      <td>west_mamprusi</td>\n",
              "      <td>individual</td>\n",
              "      <td>community</td>\n",
              "      <td>381706</td>\n",
              "      <td>yes</td>\n",
              "      <td>no</td>\n",
              "      <td>manual_power</td>\n",
              "      <td>gravel</td>\n",
              "      <td>NaN</td>\n",
              "      <td>NaN</td>\n",
              "      <td>NaN</td>\n",
              "      <td>NaN</td>\n",
              "      <td>NaN</td>\n",
              "      <td>NaN</td>\n",
              "    </tr>\n",
              "    <tr>\n",
              "      <th>2</th>\n",
              "      <td>no</td>\n",
              "      <td>community</td>\n",
              "      <td>Haruna Mohammed</td>\n",
              "      <td>year_round</td>\n",
              "      <td></td>\n",
              "      <td>NaT</td>\n",
              "      <td>functioning</td>\n",
              "      <td>_08_Water_points_CV</td>\n",
              "      <td>yes</td>\n",
              "      <td>[north_ghana/attachments/1351702462336.jpg]</td>\n",
              "      <td>Selinvoya</td>\n",
              "      <td>2012-10-31T16:57:37.864Z</td>\n",
              "      <td>50_to_500</td>\n",
              "      <td>xxx</td>\n",
              "      <td>2012-10-31T16:52:02.601Z</td>\n",
              "      <td>no</td>\n",
              "      <td>Sulemana Abdulai</td>\n",
              "      <td>submitted_via_web</td>\n",
              "      <td>5</td>\n",
              "      <td>yes</td>\n",
              "      <td>northern</td>\n",
              "      <td>6bc6d188611d47f6a666cfd1eaa33998</td>\n",
              "      <td>grid_further_500_m</td>\n",
              "      <td>2012-10-31</td>\n",
              "      <td>4d41d54d134c4bfa9078571addd819b9</td>\n",
              "      <td>yes</td>\n",
              "      <td>yes</td>\n",
              "      <td>2012-11-13 07:14:07</td>\n",
              "      <td>high</td>\n",
              "      <td>borehole</td>\n",
              "      <td>[10.28169238, -0.56962993]</td>\n",
              "      <td>1351702462336.jpg</td>\n",
              "      <td>10.28169238 -0.56962993 202.60000610351563 5.0</td>\n",
              "      <td>355047040123780</td>\n",
              "      <td>west_mamprusi</td>\n",
              "      <td>community</td>\n",
              "      <td>individual</td>\n",
              "      <td>381707</td>\n",
              "      <td>yes</td>\n",
              "      <td>no</td>\n",
              "      <td>manual_power</td>\n",
              "      <td>paved</td>\n",
              "      <td>NaN</td>\n",
              "      <td>NaN</td>\n",
              "      <td>NaN</td>\n",
              "      <td>NaN</td>\n",
              "      <td>NaN</td>\n",
              "      <td>NaN</td>\n",
              "    </tr>\n",
              "    <tr>\n",
              "      <th>3</th>\n",
              "      <td>no</td>\n",
              "      <td>community</td>\n",
              "      <td>Haruna Mohammed</td>\n",
              "      <td>year_round</td>\n",
              "      <td></td>\n",
              "      <td>NaT</td>\n",
              "      <td>functioning</td>\n",
              "      <td>_08_Water_points_CV</td>\n",
              "      <td>yes</td>\n",
              "      <td>[north_ghana/attachments/1351702971561.jpg]</td>\n",
              "      <td>Selinvoya</td>\n",
              "      <td>2012-10-31T17:06:55.047Z</td>\n",
              "      <td>50_to_500</td>\n",
              "      <td>xxx</td>\n",
              "      <td>2012-10-31T16:58:46.672Z</td>\n",
              "      <td>no</td>\n",
              "      <td>Haruna Mohammed</td>\n",
              "      <td>submitted_via_web</td>\n",
              "      <td>5</td>\n",
              "      <td>yes</td>\n",
              "      <td>northern</td>\n",
              "      <td>4b28ac4cbba744d79ba4257f772f94d6</td>\n",
              "      <td>grid_further_500_m</td>\n",
              "      <td>2012-10-31</td>\n",
              "      <td>4d41d54d134c4bfa9078571addd819b9</td>\n",
              "      <td>yes</td>\n",
              "      <td>yes</td>\n",
              "      <td>2012-11-13 07:14:14</td>\n",
              "      <td>high</td>\n",
              "      <td>borehole</td>\n",
              "      <td>[10.28115661, -0.56918339]</td>\n",
              "      <td>1351702971561.jpg</td>\n",
              "      <td>10.28115661 -0.56918339 199.6999969482422 5.0</td>\n",
              "      <td>355047040123780</td>\n",
              "      <td>west_mamprusi</td>\n",
              "      <td>individual</td>\n",
              "      <td>community</td>\n",
              "      <td>381708</td>\n",
              "      <td>yes</td>\n",
              "      <td>no</td>\n",
              "      <td>manual_power</td>\n",
              "      <td>paved</td>\n",
              "      <td>NaN</td>\n",
              "      <td>NaN</td>\n",
              "      <td>NaN</td>\n",
              "      <td>NaN</td>\n",
              "      <td>NaN</td>\n",
              "      <td>NaN</td>\n",
              "    </tr>\n",
              "    <tr>\n",
              "      <th>4</th>\n",
              "      <td>no</td>\n",
              "      <td>community</td>\n",
              "      <td>Haruna Mohammed</td>\n",
              "      <td>year_round</td>\n",
              "      <td></td>\n",
              "      <td>NaT</td>\n",
              "      <td>functioning</td>\n",
              "      <td>_08_Water_points_CV</td>\n",
              "      <td>yes</td>\n",
              "      <td>[north_ghana/attachments/1351703622326.jpg]</td>\n",
              "      <td>Selinvoya</td>\n",
              "      <td>2012-10-31T17:15:57.847Z</td>\n",
              "      <td>50_to_500</td>\n",
              "      <td>xxx</td>\n",
              "      <td>2012-10-31T17:08:27.160Z</td>\n",
              "      <td>no</td>\n",
              "      <td>Sulemana</td>\n",
              "      <td>submitted_via_web</td>\n",
              "      <td>5</td>\n",
              "      <td>yes</td>\n",
              "      <td>northern</td>\n",
              "      <td>7893ce5321804f229e533f36e90c9c6f</td>\n",
              "      <td>grid_further_500_m</td>\n",
              "      <td>2012-10-31</td>\n",
              "      <td>4d41d54d134c4bfa9078571addd819b9</td>\n",
              "      <td>yes</td>\n",
              "      <td>yes</td>\n",
              "      <td>2012-11-13 07:14:22</td>\n",
              "      <td>high</td>\n",
              "      <td>borehole</td>\n",
              "      <td>[10.28044635, -0.56723556]</td>\n",
              "      <td>1351703622326.jpg</td>\n",
              "      <td>10.28044635 -0.56723556 208.6999969482422 5.0</td>\n",
              "      <td>355047040123780</td>\n",
              "      <td>west_mamprusi</td>\n",
              "      <td>community</td>\n",
              "      <td>community</td>\n",
              "      <td>381709</td>\n",
              "      <td>yes</td>\n",
              "      <td>no</td>\n",
              "      <td>manual_power</td>\n",
              "      <td>paved</td>\n",
              "      <td>NaN</td>\n",
              "      <td>NaN</td>\n",
              "      <td>NaN</td>\n",
              "      <td>NaN</td>\n",
              "      <td>NaN</td>\n",
              "      <td>NaN</td>\n",
              "    </tr>\n",
              "  </tbody>\n",
              "</table>\n",
              "</div>"
            ],
            "text/plain": [
              "  water_pay respondent  ... simserial subscriberid\n",
              "0        no  community  ...       NaN          NaN\n",
              "1        no  community  ...       NaN          NaN\n",
              "2        no  community  ...       NaN          NaN\n",
              "3        no  community  ...       NaN          NaN\n",
              "4        no  community  ...       NaN          NaN\n",
              "\n",
              "[5 rows x 48 columns]"
            ]
          },
          "metadata": {
            "tags": []
          },
          "execution_count": 2
        }
      ]
    },
    {
      "cell_type": "code",
      "metadata": {
        "colab": {
          "base_uri": "https://localhost:8080/"
        },
        "id": "9eNceCDhAV_f",
        "outputId": "3a28452e-5771-43a6-ffda-b8dcca10ed35"
      },
      "source": [
        "df.columns"
      ],
      "execution_count": 5,
      "outputs": [
        {
          "output_type": "execute_result",
          "data": {
            "text/plain": [
              "Index(['water_pay', 'respondent', 'research_asst_name', 'water_used_season',\n",
              "       '_bamboo_dataset_id', '_deleted_at', 'water_point_condition',\n",
              "       '_xform_id_string', 'other_point_1km', '_attachments',\n",
              "       'communities_villages', 'end', 'animal_number', 'water_point_id',\n",
              "       'start', 'water_connected', 'water_manager_name', '_status',\n",
              "       'enum_id_1', 'water_lift_mechanism', 'districts_divisions', '_uuid',\n",
              "       'grid', 'date', 'formhub/uuid', 'road_available', 'water_functioning',\n",
              "       '_submission_time', 'signal', 'water_source_type', '_geolocation',\n",
              "       'water_point_image', 'water_point_geocode', 'deviceid',\n",
              "       'locations_wards', 'water_manager', 'water_developer', '_id',\n",
              "       'animal_point', 'water_mechanism_plate', 'water_lift_mechanism_type',\n",
              "       'road_type', 'water_mechanism_plate_units', 'water_mechanism_plate_no',\n",
              "       'water_not_functioning', 'water_source_type_other', 'simserial',\n",
              "       'subscriberid'],\n",
              "      dtype='object')"
            ]
          },
          "metadata": {
            "tags": []
          },
          "execution_count": 5
        }
      ]
    },
    {
      "cell_type": "markdown",
      "metadata": {
        "id": "Ldn-VyTxkWww"
      },
      "source": [
        "# The number of water points that are functional, "
      ]
    },
    {
      "cell_type": "code",
      "metadata": {
        "colab": {
          "base_uri": "https://localhost:8080/"
        },
        "id": "ZnKn6UIpAj_W",
        "outputId": "6ec487bd-328f-4efd-afae-971b414d0110"
      },
      "source": [
        "df['water_point_condition','water_point_id'].value_counts()"
      ],
      "execution_count": 6,
      "outputs": [
        {
          "output_type": "execute_result",
          "data": {
            "text/plain": [
              "functioning           590\n",
              "broken                 40\n",
              "abandoned              36\n",
              "newly_constructed      28\n",
              "under_construction     16\n",
              "na_dn                   2\n",
              "Name: water_point_condition, dtype: int64"
            ]
          },
          "metadata": {
            "tags": []
          },
          "execution_count": 6
        }
      ]
    },
    {
      "cell_type": "markdown",
      "metadata": {
        "id": "yGBr3s36AxkL"
      },
      "source": [
        "590 water points are functional"
      ]
    },
    {
      "cell_type": "code",
      "metadata": {
        "id": "0NMVoywaA2LV"
      },
      "source": [
        ""
      ],
      "execution_count": null,
      "outputs": []
    },
    {
      "cell_type": "markdown",
      "metadata": {
        "id": "HlSDaLBa8T6C"
      },
      "source": [
        "There are 623 water points that are functional."
      ]
    },
    {
      "cell_type": "markdown",
      "metadata": {
        "id": "cnoND5bZkqeQ"
      },
      "source": [
        "# The number of water points per community"
      ]
    },
    {
      "cell_type": "code",
      "metadata": {
        "id": "6HiK0vI5kw8n",
        "colab": {
          "base_uri": "https://localhost:8080/"
        },
        "outputId": "49707406-c1a9-4249-b1c1-0d18450a5291"
      },
      "source": [
        "df['communities_villages'].unique()"
      ],
      "execution_count": 4,
      "outputs": [
        {
          "output_type": "execute_result",
          "data": {
            "text/plain": [
              "array(['Gumaryili', 'Selinvoya', 'Nabulugu', 'Nayoku', 'Zangu-Vuga',\n",
              "       'Arigu', 'Gbaarigu', 'Kurugu', 'Namgurima', 'Zukpeni', 'Tantala',\n",
              "       'Loagri_1_', 'Kpatarigu', 'Kulbugu', 'Kubore', 'Zanwara', 'Garigu',\n",
              "       'Gbima', 'Soo', 'Zua', 'Dibisi', 'Alavanyo', 'Abanyeri',\n",
              "       'Chondema', 'Jaata', 'Nawaasa', 'Fiisa', 'Kanwaasa', 'Jiriwiensa',\n",
              "       'Kaasa', 'Guuta-Nasa', 'Guuta', 'Zundem', 'Zogsa', 'Longsa',\n",
              "       'Dorinsa', 'Bechinsa', 'Akpari-yeri', 'Badomsa', 'Zuedema',\n",
              "       'Tankangsa', 'Banyangsa', 'Tuisa', 'Kpikpaluk', 'Mwalorinsa',\n",
              "       'Chansa', 'Chanpolinsa', 'Kanbangsa', 'Bandem', 'Jagsa',\n",
              "       'Logvasgsa', 'Kalaasa', 'Nyandema', 'Luisa', 'Vundema',\n",
              "       'Jiningsa-Yipaala', 'Piisa', 'Sikabsa', 'Nyankpiensa', 'Jiningsa',\n",
              "       'Kom', 'Kunkwah', 'Gaadem', 'Suik', 'Jiniensa'], dtype=object)"
            ]
          },
          "metadata": {
            "tags": []
          },
          "execution_count": 4
        }
      ]
    },
    {
      "cell_type": "code",
      "metadata": {
        "colab": {
          "base_uri": "https://localhost:8080/",
          "height": 419
        },
        "id": "nQI9UggyAFWN",
        "outputId": "895948f3-00f2-4cba-816a-ff509cd92c60"
      },
      "source": [
        "df2= df[['communities_villages','water_point_id']]\r\n",
        "df2"
      ],
      "execution_count": 21,
      "outputs": [
        {
          "output_type": "execute_result",
          "data": {
            "text/html": [
              "<div>\n",
              "<style scoped>\n",
              "    .dataframe tbody tr th:only-of-type {\n",
              "        vertical-align: middle;\n",
              "    }\n",
              "\n",
              "    .dataframe tbody tr th {\n",
              "        vertical-align: top;\n",
              "    }\n",
              "\n",
              "    .dataframe thead th {\n",
              "        text-align: right;\n",
              "    }\n",
              "</style>\n",
              "<table border=\"1\" class=\"dataframe\">\n",
              "  <thead>\n",
              "    <tr style=\"text-align: right;\">\n",
              "      <th></th>\n",
              "      <th>communities_villages</th>\n",
              "      <th>water_point_id</th>\n",
              "    </tr>\n",
              "  </thead>\n",
              "  <tbody>\n",
              "    <tr>\n",
              "      <th>0</th>\n",
              "      <td>Gumaryili</td>\n",
              "      <td>xxx</td>\n",
              "    </tr>\n",
              "    <tr>\n",
              "      <th>1</th>\n",
              "      <td>Selinvoya</td>\n",
              "      <td>xxx</td>\n",
              "    </tr>\n",
              "    <tr>\n",
              "      <th>2</th>\n",
              "      <td>Selinvoya</td>\n",
              "      <td>xxx</td>\n",
              "    </tr>\n",
              "    <tr>\n",
              "      <th>3</th>\n",
              "      <td>Selinvoya</td>\n",
              "      <td>xxx</td>\n",
              "    </tr>\n",
              "    <tr>\n",
              "      <th>4</th>\n",
              "      <td>Selinvoya</td>\n",
              "      <td>xxx</td>\n",
              "    </tr>\n",
              "    <tr>\n",
              "      <th>...</th>\n",
              "      <td>...</td>\n",
              "      <td>...</td>\n",
              "    </tr>\n",
              "    <tr>\n",
              "      <th>707</th>\n",
              "      <td>Suik</td>\n",
              "      <td>411c-24</td>\n",
              "    </tr>\n",
              "    <tr>\n",
              "      <th>708</th>\n",
              "      <td>Vundema</td>\n",
              "      <td>Xxx</td>\n",
              "    </tr>\n",
              "    <tr>\n",
              "      <th>709</th>\n",
              "      <td>Vundema</td>\n",
              "      <td>Xxx</td>\n",
              "    </tr>\n",
              "    <tr>\n",
              "      <th>710</th>\n",
              "      <td>Jiniensa</td>\n",
              "      <td>xxx</td>\n",
              "    </tr>\n",
              "    <tr>\n",
              "      <th>711</th>\n",
              "      <td>Jagsa</td>\n",
              "      <td>XXX</td>\n",
              "    </tr>\n",
              "  </tbody>\n",
              "</table>\n",
              "<p>712 rows × 2 columns</p>\n",
              "</div>"
            ],
            "text/plain": [
              "    communities_villages water_point_id\n",
              "0              Gumaryili            xxx\n",
              "1              Selinvoya            xxx\n",
              "2              Selinvoya            xxx\n",
              "3              Selinvoya            xxx\n",
              "4              Selinvoya            xxx\n",
              "..                   ...            ...\n",
              "707                 Suik        411c-24\n",
              "708              Vundema            Xxx\n",
              "709              Vundema            Xxx\n",
              "710             Jiniensa            xxx\n",
              "711                Jagsa            XXX\n",
              "\n",
              "[712 rows x 2 columns]"
            ]
          },
          "metadata": {
            "tags": []
          },
          "execution_count": 21
        }
      ]
    },
    {
      "cell_type": "code",
      "metadata": {
        "id": "JC0vlbMaFIeV"
      },
      "source": [
        "df3=df2.groupby(['communities_villages'])['water_point_id'].count()"
      ],
      "execution_count": 31,
      "outputs": []
    },
    {
      "cell_type": "code",
      "metadata": {
        "colab": {
          "base_uri": "https://localhost:8080/"
        },
        "id": "r67Q7sm0JsmP",
        "outputId": "8082873c-7b9d-44b9-8666-73ed6b87d0a6"
      },
      "source": [
        "df3"
      ],
      "execution_count": 32,
      "outputs": [
        {
          "output_type": "execute_result",
          "data": {
            "text/plain": [
              "communities_villages\n",
              "Abanyeri        4\n",
              "Akpari-yeri     3\n",
              "Alavanyo        3\n",
              "Arigu          12\n",
              "Badomsa        27\n",
              "               ..\n",
              "Zogsa           6\n",
              "Zua            28\n",
              "Zuedema        18\n",
              "Zukpeni         6\n",
              "Zundem         30\n",
              "Name: water_point_id, Length: 65, dtype: int64"
            ]
          },
          "metadata": {
            "tags": []
          },
          "execution_count": 32
        }
      ]
    },
    {
      "cell_type": "markdown",
      "metadata": {
        "id": "PtQ_O1lukxlV"
      },
      "source": [
        "# The rank for each community by the percentage of broken water points."
      ]
    },
    {
      "cell_type": "code",
      "metadata": {
        "id": "OEIQ1BBrk5Nf"
      },
      "source": [
        "df4=df[df['water_functioning']=='broken']"
      ],
      "execution_count": 34,
      "outputs": []
    },
    {
      "cell_type": "code",
      "metadata": {
        "colab": {
          "base_uri": "https://localhost:8080/",
          "height": 69
        },
        "id": "D71dMhCuQ8cg",
        "outputId": "9843b876-0587-4a12-8e51-c700ad5893e9"
      },
      "source": [
        "df4"
      ],
      "execution_count": 36,
      "outputs": [
        {
          "output_type": "execute_result",
          "data": {
            "text/html": [
              "<div>\n",
              "<style scoped>\n",
              "    .dataframe tbody tr th:only-of-type {\n",
              "        vertical-align: middle;\n",
              "    }\n",
              "\n",
              "    .dataframe tbody tr th {\n",
              "        vertical-align: top;\n",
              "    }\n",
              "\n",
              "    .dataframe thead th {\n",
              "        text-align: right;\n",
              "    }\n",
              "</style>\n",
              "<table border=\"1\" class=\"dataframe\">\n",
              "  <thead>\n",
              "    <tr style=\"text-align: right;\">\n",
              "      <th></th>\n",
              "      <th>water_pay</th>\n",
              "      <th>respondent</th>\n",
              "      <th>research_asst_name</th>\n",
              "      <th>water_used_season</th>\n",
              "      <th>_bamboo_dataset_id</th>\n",
              "      <th>_deleted_at</th>\n",
              "      <th>water_point_condition</th>\n",
              "      <th>_xform_id_string</th>\n",
              "      <th>other_point_1km</th>\n",
              "      <th>_attachments</th>\n",
              "      <th>communities_villages</th>\n",
              "      <th>end</th>\n",
              "      <th>animal_number</th>\n",
              "      <th>water_point_id</th>\n",
              "      <th>start</th>\n",
              "      <th>water_connected</th>\n",
              "      <th>water_manager_name</th>\n",
              "      <th>_status</th>\n",
              "      <th>enum_id_1</th>\n",
              "      <th>water_lift_mechanism</th>\n",
              "      <th>districts_divisions</th>\n",
              "      <th>_uuid</th>\n",
              "      <th>grid</th>\n",
              "      <th>date</th>\n",
              "      <th>formhub/uuid</th>\n",
              "      <th>road_available</th>\n",
              "      <th>water_functioning</th>\n",
              "      <th>_submission_time</th>\n",
              "      <th>signal</th>\n",
              "      <th>water_source_type</th>\n",
              "      <th>_geolocation</th>\n",
              "      <th>water_point_image</th>\n",
              "      <th>water_point_geocode</th>\n",
              "      <th>deviceid</th>\n",
              "      <th>locations_wards</th>\n",
              "      <th>water_manager</th>\n",
              "      <th>water_developer</th>\n",
              "      <th>_id</th>\n",
              "      <th>animal_point</th>\n",
              "      <th>water_mechanism_plate</th>\n",
              "      <th>water_lift_mechanism_type</th>\n",
              "      <th>road_type</th>\n",
              "      <th>water_mechanism_plate_units</th>\n",
              "      <th>water_mechanism_plate_no</th>\n",
              "      <th>water_not_functioning</th>\n",
              "      <th>water_source_type_other</th>\n",
              "      <th>simserial</th>\n",
              "      <th>subscriberid</th>\n",
              "    </tr>\n",
              "  </thead>\n",
              "  <tbody>\n",
              "  </tbody>\n",
              "</table>\n",
              "</div>"
            ],
            "text/plain": [
              "Empty DataFrame\n",
              "Columns: [water_pay, respondent, research_asst_name, water_used_season, _bamboo_dataset_id, _deleted_at, water_point_condition, _xform_id_string, other_point_1km, _attachments, communities_villages, end, animal_number, water_point_id, start, water_connected, water_manager_name, _status, enum_id_1, water_lift_mechanism, districts_divisions, _uuid, grid, date, formhub/uuid, road_available, water_functioning, _submission_time, signal, water_source_type, _geolocation, water_point_image, water_point_geocode, deviceid, locations_wards, water_manager, water_developer, _id, animal_point, water_mechanism_plate, water_lift_mechanism_type, road_type, water_mechanism_plate_units, water_mechanism_plate_no, water_not_functioning, water_source_type_other, simserial, subscriberid]\n",
              "Index: []"
            ]
          },
          "metadata": {
            "tags": []
          },
          "execution_count": 36
        }
      ]
    },
    {
      "cell_type": "code",
      "metadata": {
        "id": "IO5311WeQ--I"
      },
      "source": [
        ""
      ],
      "execution_count": null,
      "outputs": []
    }
  ]
}